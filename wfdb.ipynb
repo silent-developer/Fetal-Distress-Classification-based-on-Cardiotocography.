{
  "nbformat": 4,
  "nbformat_minor": 0,
  "metadata": {
    "colab": {
      "name": "wfdb.ipynb",
      "version": "0.3.2",
      "provenance": [],
      "collapsed_sections": [],
      "include_colab_link": true
    },
    "kernelspec": {
      "name": "python2",
      "display_name": "Python 2"
    }
  },
  "cells": [
    {
      "cell_type": "markdown",
      "metadata": {
        "id": "view-in-github",
        "colab_type": "text"
      },
      "source": [
        "<a href=\"https://colab.research.google.com/github/silent-developer/Fetal-Distress-Classification-based-on-Cardiotocography./blob/master/wfdb.ipynb\" target=\"_parent\"><img src=\"https://colab.research.google.com/assets/colab-badge.svg\" alt=\"Open In Colab\"/></a>"
      ]
    },
    {
      "metadata": {
        "id": "M7Qtr9DcZLJv",
        "colab_type": "code",
        "outputId": "7bce1b17-2359-4391-e823-f496a1a7b21e",
        "colab": {
          "base_uri": "https://localhost:8080/",
          "height": 547
        }
      },
      "cell_type": "code",
      "source": [
        "!pip install wfdb"
      ],
      "execution_count": 0,
      "outputs": [
        {
          "output_type": "stream",
          "text": [
            "Collecting wfdb\n",
            "\u001b[?25l  Downloading https://files.pythonhosted.org/packages/b2/96/c2200539fdf4f087e14d30ed62a66544b6f441196bcb8ecc7a29ec6503b9/wfdb-2.2.1.tar.gz (94kB)\n",
            "\u001b[K    100% |████████████████████████████████| 102kB 5.8MB/s \n",
            "\u001b[?25hRequirement already satisfied: nose>=1.3.7 in /usr/local/lib/python2.7/dist-packages (from wfdb) (1.3.7)\n",
            "Requirement already satisfied: numpy>=1.11.0 in /usr/local/lib/python2.7/dist-packages (from wfdb) (1.14.6)\n",
            "Requirement already satisfied: matplotlib>=1.5.1 in /usr/local/lib/python2.7/dist-packages (from wfdb) (2.2.3)\n",
            "Requirement already satisfied: requests>=2.10.0 in /usr/local/lib/python2.7/dist-packages (from wfdb) (2.18.4)\n",
            "Requirement already satisfied: pandas>=0.19.1 in /usr/local/lib/python2.7/dist-packages (from wfdb) (0.22.0)\n",
            "Requirement already satisfied: scipy>=0.19.0 in /usr/local/lib/python2.7/dist-packages (from wfdb) (1.1.0)\n",
            "Requirement already satisfied: sklearn>=0.0 in /usr/local/lib/python2.7/dist-packages (from wfdb) (0.0)\n",
            "Requirement already satisfied: cycler>=0.10 in /usr/local/lib/python2.7/dist-packages (from matplotlib>=1.5.1->wfdb) (0.10.0)\n",
            "Requirement already satisfied: backports.functools-lru-cache in /usr/local/lib/python2.7/dist-packages (from matplotlib>=1.5.1->wfdb) (1.5)\n",
            "Requirement already satisfied: subprocess32 in /usr/local/lib/python2.7/dist-packages (from matplotlib>=1.5.1->wfdb) (3.5.3)\n",
            "Requirement already satisfied: kiwisolver>=1.0.1 in /usr/local/lib/python2.7/dist-packages (from matplotlib>=1.5.1->wfdb) (1.0.1)\n",
            "Requirement already satisfied: pytz in /usr/local/lib/python2.7/dist-packages (from matplotlib>=1.5.1->wfdb) (2018.9)\n",
            "Requirement already satisfied: six>=1.10 in /usr/local/lib/python2.7/dist-packages (from matplotlib>=1.5.1->wfdb) (1.11.0)\n",
            "Requirement already satisfied: python-dateutil>=2.1 in /usr/local/lib/python2.7/dist-packages (from matplotlib>=1.5.1->wfdb) (2.5.3)\n",
            "Requirement already satisfied: pyparsing!=2.0.4,!=2.1.2,!=2.1.6,>=2.0.1 in /usr/local/lib/python2.7/dist-packages (from matplotlib>=1.5.1->wfdb) (2.3.1)\n",
            "Requirement already satisfied: idna<2.7,>=2.5 in /usr/local/lib/python2.7/dist-packages (from requests>=2.10.0->wfdb) (2.6)\n",
            "Requirement already satisfied: urllib3<1.23,>=1.21.1 in /usr/local/lib/python2.7/dist-packages (from requests>=2.10.0->wfdb) (1.22)\n",
            "Requirement already satisfied: certifi>=2017.4.17 in /usr/local/lib/python2.7/dist-packages (from requests>=2.10.0->wfdb) (2018.11.29)\n",
            "Requirement already satisfied: chardet<3.1.0,>=3.0.2 in /usr/local/lib/python2.7/dist-packages (from requests>=2.10.0->wfdb) (3.0.4)\n",
            "Requirement already satisfied: scikit-learn in /usr/local/lib/python2.7/dist-packages (from sklearn>=0.0->wfdb) (0.20.2)\n",
            "Requirement already satisfied: setuptools in /usr/local/lib/python2.7/dist-packages (from kiwisolver>=1.0.1->matplotlib>=1.5.1->wfdb) (40.6.3)\n",
            "Building wheels for collected packages: wfdb\n",
            "  Running setup.py bdist_wheel for wfdb ... \u001b[?25l-\b \bdone\n",
            "\u001b[?25h  Stored in directory: /root/.cache/pip/wheels/bb/a9/00/0078d26b0c15b31be0001af8eb659496709c361c69641303f1\n",
            "Successfully built wfdb\n",
            "Installing collected packages: wfdb\n",
            "Successfully installed wfdb-2.2.1\n"
          ],
          "name": "stdout"
        }
      ]
    },
    {
      "metadata": {
        "id": "vPYNq1fvf0_5",
        "colab_type": "code",
        "colab": {}
      },
      "cell_type": "code",
      "source": [
        "from IPython.display import display\n",
        "import matplotlib.pyplot as plt\n",
        "%matplotlib inline\n",
        "import numpy as np\n",
        "import os\n",
        "import shutil\n",
        "\n",
        "import wfdb"
      ],
      "execution_count": 0,
      "outputs": []
    },
    {
      "metadata": {
        "id": "_W0KUxUsgYPv",
        "colab_type": "code",
        "outputId": "82d66841-f4d5-4d57-cca5-e1e9d657ee38",
        "colab": {
          "base_uri": "https://localhost:8080/",
          "height": 1552
        }
      },
      "cell_type": "code",
      "source": [
        "# Demo 1 - Read a wfdb record using the 'rdrecord' function into a wfdb.Record object.\n",
        "# Plot the signals, and show the data.\n",
        "#record = wfdb.rdrecord('sample-data/a103l') \n",
        "#wfdb.plot_wfdb(record=record, title='Record a103l from Physionet Challenge 2015') \n",
        "#display(record.__dict__)\n",
        "\n",
        "\n",
        "# Can also read the same files hosted on Physiobank https://physionet.org/physiobank/database/\n",
        "# in the challenge/2015/training/ database subdirectory. Full url = https://physionet.org/physiobank/database/challenge/2015/training/\n",
        "record2 = wfdb.rdrecord('1002', pb_dir='ctu-uhb-ctgdb/')\n",
        "wfdb.plot_wfdb(record=record2, title='Record a103l from Physionet Challenge 2015') \n",
        "display(record2.__dict__)\n"
      ],
      "execution_count": 0,
      "outputs": [
        {
          "output_type": "display_data",
          "data": {
            "image/png": "[encoded data removed]",
            "text/plain": [
              "<Figure size 432x288 with 2 Axes>"
            ]
          },
          "metadata": {
            "tags": []
          }
        },
        {
          "output_type": "display_data",
          "data": {
            "text/plain": [
              "{'adc_gain': [100.0, 100.0],\n",
              " 'adc_res': [12, 12],\n",
              " 'adc_zero': [0, 0],\n",
              " 'base_counter': None,\n",
              " 'base_date': None,\n",
              " 'base_time': None,\n",
              " 'baseline': [0, 0],\n",
              " 'block_size': [0, 0],\n",
              " 'byte_offset': [None, None],\n",
              " 'checksum': [6289, -6136],\n",
              " 'comments': ['----- Additional parameters for record 1002',\n",
              "  '-- Outcome measures',\n",
              "  'pH           7',\n",
              "  'BDecf        7.92',\n",
              "  'pCO2         12',\n",
              "  'BE           -12',\n",
              "  'Apgar1       8',\n",
              "  'Apgar5       8',\n",
              "  '-- !NotReadyYet! Neonatology outcome measures !NotReadyYet!',\n",
              "  'NICU days    0',\n",
              "  'Seizures     0',\n",
              "  'HIE          0',\n",
              "  'Intubation   0',\n",
              "  'Main diag.   0',\n",
              "  'Other diag.  0',\n",
              "  '-- Fetus/Neonate descriptors',\n",
              "  'Gest. weeks  41',\n",
              "  'Weight(g)    2900',\n",
              "  'Sex          2',\n",
              "  '-- Maternal (risk-)factors',\n",
              "  'Age          23',\n",
              "  'Gravidity    1',\n",
              "  'Parity       0',\n",
              "  'Diabetes     0',\n",
              "  'Hypertension 0',\n",
              "  'Preeclampsia 0',\n",
              "  'Liq. praecox 0',\n",
              "  'Pyrexia      0',\n",
              "  'Meconium     1',\n",
              "  '-- Delivery descriptors',\n",
              "  'Presentation 1',\n",
              "  'Induced      0',\n",
              "  'I.stage      220',\n",
              "  'NoProgress   0',\n",
              "  'CK/KP        0',\n",
              "  'II.stage     20',\n",
              "  'Deliv. type  1',\n",
              "  '-- Signal information',\n",
              "  'dbID         975666',\n",
              "  'Rec. type    1',\n",
              "  'Pos. II.st.  14400',\n",
              "  'Sig2Birth    0'],\n",
              " 'counter_freq': None,\n",
              " 'd_signal': None,\n",
              " 'e_d_signal': None,\n",
              " 'e_p_signal': None,\n",
              " 'file_name': ['1002.dat', '1002.dat'],\n",
              " 'fmt': ['16', '16'],\n",
              " 'fs': 4,\n",
              " 'init_value': [14625, 2600],\n",
              " 'n_sig': 2,\n",
              " 'p_signal': array([[146.25,  26.  ],\n",
              "        [146.25,  26.  ],\n",
              "        [150.25,  25.5 ],\n",
              "        ...,\n",
              "        [  0.  ,   0.  ],\n",
              "        [  0.  ,   0.  ],\n",
              "        [  0.  ,   0.  ]]),\n",
              " 'record_name': '1002',\n",
              " 'samps_per_frame': [1, 1],\n",
              " 'sig_len': 19200,\n",
              " 'sig_name': ['FHR', 'UC'],\n",
              " 'skew': [None, None],\n",
              " 'units': ['bpm', 'nd']}"
            ]
          },
          "metadata": {
            "tags": []
          }
        }
      ]
    },
    {
      "metadata": {
        "id": "h_OCZrFjB-nX",
        "colab_type": "code",
        "outputId": "fae7b37e-eea9-463b-dd1c-6c55a1739ad0",
        "colab": {
          "base_uri": "https://localhost:8080/",
          "height": 232
        }
      },
      "cell_type": "code",
      "source": [
        "# this script convert the full dataset mitdb (data and annotatiosn) to text files\n",
        "from google.colab import files\n",
        "#from os import listdir, mkdir, system\n",
        "#from os.path import isfile, isdir, join, exists\n",
        "\n",
        "#dir = 'ediagnostic/wfdb/'#'mitdb/'\n",
        "#Create folder\n",
        "#dir_out = dir + 'csv/'\n",
        "#if not exists(dir_out):\n",
        "\t#mkdir(dir_out)\n",
        "\n",
        "#records = [f for f in listdir(dir) if isfile(join(dir, f)) if(f.find('.dat') != -1)]\n",
        "#print records\n",
        "record2 = wfdb.rdrecord('1002', pb_dir='ctu-uhb-ctgdb/')\n",
        "for r in record2:\n",
        "\n",
        "\tcommand = 'rdsamp -r ' + dir + r[:-4] + ' -c -H -f 0 -v >' + dir_out + r[:-4] + '.csv'\n",
        "\tprint(command)\n",
        "\tsystem(command)\n",
        "\n",
        "\tcommand_annotations = 'rdann -r ' + dir + r[:-4] +' -f 0 -a atr -v >' + dir_out + r[:-4] + '.ann'\n",
        "\tprint(command_annotations)\n",
        "\tsystem(command_annotations)\n",
        "  \n",
        "  \n",
        "\n",
        "with open('example.txt', 'w') as f:\n",
        "  f.write('some content')\n",
        "\n",
        "files.download('example.txt')\n"
      ],
      "execution_count": 0,
      "outputs": [
        {
          "output_type": "error",
          "ename": "NameError",
          "evalue": "ignored",
          "traceback": [
            "\u001b[0;31m\u001b[0m",
            "\u001b[0;31mNameError\u001b[0mTraceback (most recent call last)",
            "\u001b[0;32m<ipython-input-12-1972ceaf9595>\u001b[0m in \u001b[0;36m<module>\u001b[0;34m()\u001b[0m\n\u001b[1;32m     12\u001b[0m \u001b[0;31m#print records\u001b[0m\u001b[0;34m\u001b[0m\u001b[0;34m\u001b[0m\u001b[0m\n\u001b[1;32m     13\u001b[0m \u001b[0;34m\u001b[0m\u001b[0m\n\u001b[0;32m---> 14\u001b[0;31m \u001b[0;32mfor\u001b[0m \u001b[0mr\u001b[0m \u001b[0;32min\u001b[0m \u001b[0mrecords\u001b[0m\u001b[0;34m:\u001b[0m\u001b[0;34m\u001b[0m\u001b[0m\n\u001b[0m\u001b[1;32m     15\u001b[0m \u001b[0;34m\u001b[0m\u001b[0m\n\u001b[1;32m     16\u001b[0m         \u001b[0mcommand\u001b[0m \u001b[0;34m=\u001b[0m \u001b[0;34m'rdsamp -r '\u001b[0m \u001b[0;34m+\u001b[0m \u001b[0mdir\u001b[0m \u001b[0;34m+\u001b[0m \u001b[0mr\u001b[0m\u001b[0;34m[\u001b[0m\u001b[0;34m:\u001b[0m\u001b[0;34m-\u001b[0m\u001b[0;36m4\u001b[0m\u001b[0;34m]\u001b[0m \u001b[0;34m+\u001b[0m \u001b[0;34m' -c -H -f 0 -v >'\u001b[0m \u001b[0;34m+\u001b[0m \u001b[0mdir_out\u001b[0m \u001b[0;34m+\u001b[0m \u001b[0mr\u001b[0m\u001b[0;34m[\u001b[0m\u001b[0;34m:\u001b[0m\u001b[0;34m-\u001b[0m\u001b[0;36m4\u001b[0m\u001b[0;34m]\u001b[0m \u001b[0;34m+\u001b[0m \u001b[0;34m'.csv'\u001b[0m\u001b[0;34m\u001b[0m\u001b[0m\n",
            "\u001b[0;31mNameError\u001b[0m: name 'records' is not defined"
          ]
        }
      ]
    },
    {
      "metadata": {
        "id": "Gx_XvilahOAE",
        "colab_type": "code",
        "outputId": "42175350-c7b6-47e2-c887-eab7d03ad22b",
        "colab": {
          "base_uri": "https://localhost:8080/",
          "height": 301
        }
      },
      "cell_type": "code",
      "source": [
        "np.savetxt('np.csv', plo, delimiter='record2')\n"
      ],
      "execution_count": 0,
      "outputs": [
        {
          "output_type": "error",
          "ename": "ValueError",
          "evalue": "ignored",
          "traceback": [
            "\u001b[0;31m\u001b[0m",
            "\u001b[0;31mValueError\u001b[0mTraceback (most recent call last)",
            "\u001b[0;32m<ipython-input-7-5b0db0ce25cd>\u001b[0m in \u001b[0;36m<module>\u001b[0;34m()\u001b[0m\n\u001b[0;32m----> 1\u001b[0;31m \u001b[0mnp\u001b[0m\u001b[0;34m.\u001b[0m\u001b[0msavetxt\u001b[0m\u001b[0;34m(\u001b[0m\u001b[0;34m'np.csv'\u001b[0m\u001b[0;34m,\u001b[0m \u001b[0mplo\u001b[0m\u001b[0;34m,\u001b[0m \u001b[0mdelimiter\u001b[0m\u001b[0;34m=\u001b[0m\u001b[0;34m'record2'\u001b[0m\u001b[0;34m)\u001b[0m\u001b[0;34m\u001b[0m\u001b[0m\n\u001b[0m",
            "\u001b[0;32m/usr/local/lib/python2.7/dist-packages/numpy/lib/npyio.pyc\u001b[0m in \u001b[0;36msavetxt\u001b[0;34m(fname, X, fmt, delimiter, newline, header, footer, comments, encoding)\u001b[0m\n\u001b[1;32m   1323\u001b[0m         \u001b[0;32mif\u001b[0m \u001b[0mX\u001b[0m\u001b[0;34m.\u001b[0m\u001b[0mndim\u001b[0m \u001b[0;34m==\u001b[0m \u001b[0;36m0\u001b[0m \u001b[0;32mor\u001b[0m \u001b[0mX\u001b[0m\u001b[0;34m.\u001b[0m\u001b[0mndim\u001b[0m \u001b[0;34m>\u001b[0m \u001b[0;36m2\u001b[0m\u001b[0;34m:\u001b[0m\u001b[0;34m\u001b[0m\u001b[0m\n\u001b[1;32m   1324\u001b[0m             raise ValueError(\n\u001b[0;32m-> 1325\u001b[0;31m                 \"Expected 1D or 2D array, got %dD array instead\" % X.ndim)\n\u001b[0m\u001b[1;32m   1326\u001b[0m         \u001b[0;32melif\u001b[0m \u001b[0mX\u001b[0m\u001b[0;34m.\u001b[0m\u001b[0mndim\u001b[0m \u001b[0;34m==\u001b[0m \u001b[0;36m1\u001b[0m\u001b[0;34m:\u001b[0m\u001b[0;34m\u001b[0m\u001b[0m\n\u001b[1;32m   1327\u001b[0m             \u001b[0;31m# Common case -- 1d array of numbers\u001b[0m\u001b[0;34m\u001b[0m\u001b[0;34m\u001b[0m\u001b[0m\n",
            "\u001b[0;31mValueError\u001b[0m: Expected 1D or 2D array, got 0D array instead"
          ]
        }
      ]
    },
    {
      "metadata": {
        "id": "QcQfrBo-f8WE",
        "colab_type": "code",
        "outputId": "b8bdaf78-af6d-4e6c-80e0-1d39665d0b11",
        "colab": {
          "base_uri": "https://localhost:8080/",
          "height": 102
        }
      },
      "cell_type": "code",
      "source": [
        "!pip install cx_Oracle"
      ],
      "execution_count": 0,
      "outputs": [
        {
          "output_type": "stream",
          "text": [
            "Collecting cx_Oracle\n",
            "\u001b[?25l  Downloading https://files.pythonhosted.org/packages/a8/84/5b5d39c8197ff06d47e5f06dd4244ce84894696465e02b3e5bd39357de25/cx_Oracle-7.0.0-cp27-cp27mu-manylinux1_x86_64.whl (668kB)\n",
            "\u001b[K    100% |████████████████████████████████| 675kB 6.1MB/s \n",
            "\u001b[?25hInstalling collected packages: cx-Oracle\n",
            "Successfully installed cx-Oracle-7.0.0\n"
          ],
          "name": "stdout"
        }
      ]
    },
    {
      "metadata": {
        "id": "NaCiqwj3fEzc",
        "colab_type": "code",
        "outputId": "49874105-1f71-41e3-8939-5017b7dc321a",
        "colab": {
          "base_uri": "https://localhost:8080/",
          "height": 252
        }
      },
      "cell_type": "code",
      "source": [
        "import cx_Oracle\n",
        "import sys\n",
        "\n",
        "con = cx_Oracle.connect(\"SYSTEM/20051998\")\n",
        "cur = con.cursor()\n",
        "\n",
        "n = 0\n",
        "while n!=4:\n",
        "    try:\n",
        "        print(\"Enter 1 for Insert into table...\")\n",
        "        print(\"Enter 2 for Delete from table...\")\n",
        "        print(\"Enter 3 to VIEW table...\")\n",
        "        print(\"Enter 4 to Exit...\")\n",
        "\n",
        "        n = int(input(\"Enter Your Choice = \"))\n",
        "        print(\"\\n\\n\")\n",
        "    except:\n",
        "        print(\"Enter Valid Input...\")\n",
        "        n = 0\n",
        "        continue\n",
        "\n",
        "    if(n==1):\n",
        "        ins = 0\n",
        "        while ins!=4:\n",
        "            try:                \n",
        "                print(\"Enter 1 to insert data into DONE table...\")\n",
        "                print(\"Enter 2 to insert data into PEOPLE table...\")\n",
        "                print(\"Enter 3 to insert data into TASKS table...\")\n",
        "                print(\"Enter 4 to EXIT...\")\n",
        "\n",
        "                ins = int(input(\"Enter Your Choice = \"))\n",
        "                print(\"\\n\\n\")\n",
        "            except :\n",
        "                print(\"Enter Valid Input...\")\n",
        "                ins = 0\n",
        "                continue\n",
        "            \n",
        "            if(ins==1):\n",
        "                weeknum = int(input(\"Enter week number = \"))\n",
        "                daynum = int(input(\"Enter day number = \"))\n",
        "                numday = int(input(\"Enter how many numbers are required = \"))\n",
        "                who = input(\"Enter Name of Employee = \")\n",
        "                act = input(\"Enter Activity of Employee = \")\n",
        "                cur.execute(\"insert into done values(:p1, :p2, :p3, :p4, :p5)\", {'p1':weeknum, 'p2':daynum, 'p3':numday, 'p4':who, 'p5':act})\n",
        "                print(\"Inserted successfully...\")\n",
        "\n",
        "            if(ins==2):\n",
        "                name = input(\"Enter Name of Employee = \")\n",
        "                skill = input(\"Enter Skill of Employee = \")\n",
        "                color = input(\"Enter Color to print in Gantt Chart = \")\n",
        "                cur.execute(\"insert into people values(:po1, :po2, :po3)\", {'po1':name, 'po2':skill, 'po3':color})\n",
        "                print(\"Inserted Successfully...\")\n",
        "\n",
        "            if(ins==3):\n",
        "                ide = int(input(\"Enter ID of an Employee = \"))\n",
        "                grp = input(\"Enter Domain of an Employee = \")\n",
        "                task = input(\"Enter task of an Employee = \")\n",
        "                ski = input(\"Enter skill of Employee = \")\n",
        "                effort = int(input(\"Enter effort of Employee = \"))\n",
        "                depen = input(\"Enter depends = \")\n",
        "                cur.execute(\"insert into tasks values(:t1, :t2, :t3, :t4, :t5, :t6)\", {'t1':ide, 't2':grp, 't3':task, 't4':ski, 't5':effort, 't6':depen})\n",
        "            \n",
        "            if(ins==4):\n",
        "                break\n",
        "\n",
        "    if(n==2):\n",
        "        de = 0\n",
        "        while de!=4:\n",
        "            try:                \n",
        "                print(\"Enter 1 to delete data from DONE table...\")\n",
        "                print(\"Enter 2 to delete data from PEOPLE table...\")\n",
        "                print(\"Enter 3 to delete data from TASKS table...\")\n",
        "                print(\"Enter 4 to EXIT...\")\n",
        "\n",
        "                de = int(input(\"Enter Your Choice = \"))\n",
        "                print(\"\\n\\n\")\n",
        "            except :\n",
        "                print(\"Enter Valid Input...\")\n",
        "                de = 0\n",
        "                continue\n",
        "            \n",
        "            if(de==1):\n",
        "                break\n",
        "\n",
        "            if(de==2):\n",
        "                break\n",
        "\n",
        "            if(de==3):\n",
        "                break\n",
        "            \n",
        "            if(de==4):\n",
        "                break\n",
        "\n",
        "    if(n==3):\n",
        "        up = 0\n",
        "        while up!=4:\n",
        "            try:                \n",
        "                print(\"Enter 1 to print data of DONE table...\")\n",
        "                print(\"Enter 2 to print data of PEOPLE table...\")\n",
        "                print(\"Enter 3 to print data of TASKS table...\")\n",
        "                print(\"Enter 4 to Generate CSV File...\")\n",
        "                print(\"Enter 5 to EXIT...\")\n",
        "\n",
        "                up = int(input(\"Enter Your Choice = \"))\n",
        "                print(\"\\n\\n\")\n",
        "            except :\n",
        "                print(\"Enter Valid Input...\")\n",
        "                up = 0\n",
        "                continue\n",
        "            \n",
        "            if(up==1):\n",
        "                cur.execute(\"select * from done\")\n",
        "                print(cur.fetchall())\n",
        "                break\n",
        "\n",
        "            if(up==2):\n",
        "                cur.execute(\"select * from people\")\n",
        "                print(cur.fetchall())\n",
        "                break\n",
        "\n",
        "            if(up==3):\n",
        "                cur.execute(\"select * from tasks\")\n",
        "                print(cur.fetchall())\n",
        "                break\n",
        "            \n",
        "            if(up==4):\n",
        "                cur.execute(\"select * from done\")\n",
        "                file = open(\"done.csv\",\"w\")\n",
        "                file.write('week, days, numdays, who, activity\\n')\n",
        "                for row in cur:\n",
        "                    file.write((str)(row[0]) + ',' + (str)(row[1]) + ',' +(str)(row[2])+ ',' + row[3] +','+ row[4] + '\\n')\n",
        "                file.close()\n",
        "                \n",
        "                \n",
        "                cur.execute(\"select * from people\")\n",
        "                file = open(\"people.csv\",\"w\")\n",
        "                file.write('name, skills, colour\\n')\n",
        "                for row in cur:\n",
        "                    file.write(row[0] + ',' + row[1] + ',' + row[2] + '\\n')\n",
        "                file.close()\n",
        "                \n",
        "\n",
        "                cur.execute(\"select * from tasks\")\n",
        "                file = open(\"tasks.csv\",\"w\")\n",
        "                file.write('id, group, task, skill, effort, depends\\n')\n",
        "                for row in cur:\n",
        "                    file.write((str)(row[0]) + ',' + row[1] + ',' + row[2] + ',' + row[3] +','+ (str)(row[4])+ ','+(str)(row[5])+ '\\n')\n",
        "                file.close()\n",
        "               \n",
        "            \n",
        "            if(up==5):\n",
        "                break\n",
        "            \n",
        "    if(n==4):\n",
        "        break\n",
        "\n",
        "con.commit()\n",
        "con.close()"
      ],
      "execution_count": 0,
      "outputs": [
        {
          "output_type": "error",
          "ename": "DatabaseError",
          "evalue": "ignored",
          "traceback": [
            "\u001b[0;31m\u001b[0m",
            "\u001b[0;31mDatabaseError\u001b[0mTraceback (most recent call last)",
            "\u001b[0;32m<ipython-input-11-20325b90b5bf>\u001b[0m in \u001b[0;36m<module>\u001b[0;34m()\u001b[0m\n\u001b[1;32m      2\u001b[0m \u001b[0;32mimport\u001b[0m \u001b[0msys\u001b[0m\u001b[0;34m\u001b[0m\u001b[0m\n\u001b[1;32m      3\u001b[0m \u001b[0;34m\u001b[0m\u001b[0m\n\u001b[0;32m----> 4\u001b[0;31m \u001b[0mcon\u001b[0m \u001b[0;34m=\u001b[0m \u001b[0mcx_Oracle\u001b[0m\u001b[0;34m.\u001b[0m\u001b[0mconnect\u001b[0m\u001b[0;34m(\u001b[0m\u001b[0;34m\"SYSTEM/20051998\"\u001b[0m\u001b[0;34m)\u001b[0m\u001b[0;34m\u001b[0m\u001b[0m\n\u001b[0m\u001b[1;32m      5\u001b[0m \u001b[0mcur\u001b[0m \u001b[0;34m=\u001b[0m \u001b[0mcon\u001b[0m\u001b[0;34m.\u001b[0m\u001b[0mcursor\u001b[0m\u001b[0;34m(\u001b[0m\u001b[0;34m)\u001b[0m\u001b[0;34m\u001b[0m\u001b[0m\n\u001b[1;32m      6\u001b[0m \u001b[0;34m\u001b[0m\u001b[0m\n",
            "\u001b[0;31mDatabaseError\u001b[0m: DPI-1047: 64-bit Oracle Client library cannot be loaded: \"libclntsh.so: cannot open shared object file: No such file or directory\". See https://oracle.github.io/odpi/doc/installation.html#linux for help"
          ]
        }
      ]
    },
    {
      "metadata": {
        "id": "OdjCcxUZfant",
        "colab_type": "code",
        "outputId": "f4c81ca3-60be-40d1-acd4-c43c4b8575a4",
        "colab": {
          "base_uri": "https://localhost:8080/",
          "height": 686
        }
      },
      "cell_type": "code",
      "source": [
        "wfdb.wrsamp('1002',2,'bpm', record2, record2)"
      ],
      "execution_count": 0,
      "outputs": [
        {
          "output_type": "error",
          "ename": "TypeError",
          "evalue": "ignored",
          "traceback": [
            "\u001b[0;31m\u001b[0m",
            "\u001b[0;31mTypeError\u001b[0mTraceback (most recent call last)",
            "\u001b[0;32m<ipython-input-9-32c27601c7f1>\u001b[0m in \u001b[0;36m<module>\u001b[0;34m()\u001b[0m\n\u001b[0;32m----> 1\u001b[0;31m \u001b[0mwfdb\u001b[0m\u001b[0;34m.\u001b[0m\u001b[0mwrsamp\u001b[0m\u001b[0;34m(\u001b[0m\u001b[0;34m'1002'\u001b[0m\u001b[0;34m,\u001b[0m\u001b[0;36m2\u001b[0m\u001b[0;34m,\u001b[0m\u001b[0;34m'bpm'\u001b[0m\u001b[0;34m,\u001b[0m \u001b[0mrecord2\u001b[0m\u001b[0;34m,\u001b[0m \u001b[0mrecord2\u001b[0m\u001b[0;34m)\u001b[0m\u001b[0;34m\u001b[0m\u001b[0m\n\u001b[0m",
            "\u001b[0;32m/usr/local/lib/python2.7/dist-packages/wfdb/io/record.pyc\u001b[0m in \u001b[0;36mwrsamp\u001b[0;34m(record_name, fs, units, sig_name, p_signal, d_signal, fmt, adc_gain, baseline, comments, base_time, base_date, write_dir)\u001b[0m\n\u001b[1;32m   1523\u001b[0m         \u001b[0;31m# Compute optimal fields to store the digital signal, carry out adc,\u001b[0m\u001b[0;34m\u001b[0m\u001b[0;34m\u001b[0m\u001b[0m\n\u001b[1;32m   1524\u001b[0m         \u001b[0;31m# and set the fields.\u001b[0m\u001b[0;34m\u001b[0m\u001b[0;34m\u001b[0m\u001b[0m\n\u001b[0;32m-> 1525\u001b[0;31m         \u001b[0mrecord\u001b[0m\u001b[0;34m.\u001b[0m\u001b[0mset_d_features\u001b[0m\u001b[0;34m(\u001b[0m\u001b[0mdo_adc\u001b[0m\u001b[0;34m=\u001b[0m\u001b[0;36m1\u001b[0m\u001b[0;34m)\u001b[0m\u001b[0;34m\u001b[0m\u001b[0m\n\u001b[0m\u001b[1;32m   1526\u001b[0m     \u001b[0;32melse\u001b[0m\u001b[0;34m:\u001b[0m\u001b[0;34m\u001b[0m\u001b[0m\n\u001b[1;32m   1527\u001b[0m         \u001b[0;31m# Create the Record object\u001b[0m\u001b[0;34m\u001b[0m\u001b[0;34m\u001b[0m\u001b[0m\n",
            "\u001b[0;32m/usr/local/lib/python2.7/dist-packages/wfdb/io/_signal.pyc\u001b[0m in \u001b[0;36mset_d_features\u001b[0;34m(self, do_adc, single_fmt, expanded)\u001b[0m\n\u001b[1;32m    280\u001b[0m             \u001b[0;31m# adc is performed.\u001b[0m\u001b[0;34m\u001b[0m\u001b[0;34m\u001b[0m\u001b[0m\n\u001b[1;32m    281\u001b[0m             \u001b[0;32mif\u001b[0m \u001b[0mdo_adc\u001b[0m\u001b[0;34m:\u001b[0m\u001b[0;34m\u001b[0m\u001b[0m\n\u001b[0;32m--> 282\u001b[0;31m                 \u001b[0mself\u001b[0m\u001b[0;34m.\u001b[0m\u001b[0mcheck_field\u001b[0m\u001b[0;34m(\u001b[0m\u001b[0;34m'p_signal'\u001b[0m\u001b[0;34m)\u001b[0m\u001b[0;34m\u001b[0m\u001b[0m\n\u001b[0m\u001b[1;32m    283\u001b[0m \u001b[0;34m\u001b[0m\u001b[0m\n\u001b[1;32m    284\u001b[0m                 \u001b[0;31m# If there is no fmt set\u001b[0m\u001b[0;34m\u001b[0m\u001b[0;34m\u001b[0m\u001b[0m\n",
            "\u001b[0;32m/usr/local/lib/python2.7/dist-packages/wfdb/io/record.pyc\u001b[0m in \u001b[0;36mcheck_field\u001b[0;34m(self, field, required_channels)\u001b[0m\n\u001b[1;32m     68\u001b[0m                         \u001b[0mallowed_types\u001b[0m\u001b[0;34m=\u001b[0m\u001b[0mALLOWED_TYPES\u001b[0m\u001b[0;34m[\u001b[0m\u001b[0mfield\u001b[0m\u001b[0;34m]\u001b[0m\u001b[0;34m,\u001b[0m\u001b[0;34m\u001b[0m\u001b[0m\n\u001b[1;32m     69\u001b[0m                         \u001b[0mexpect_list\u001b[0m\u001b[0;34m=\u001b[0m\u001b[0mexpect_list\u001b[0m\u001b[0;34m,\u001b[0m\u001b[0;34m\u001b[0m\u001b[0m\n\u001b[0;32m---> 70\u001b[0;31m                         required_channels=required_channels)\n\u001b[0m\u001b[1;32m     71\u001b[0m \u001b[0;34m\u001b[0m\u001b[0m\n\u001b[1;32m     72\u001b[0m         \u001b[0;31m# Individual specific field checks\u001b[0m\u001b[0;34m\u001b[0m\u001b[0;34m\u001b[0m\u001b[0m\n",
            "\u001b[0;32m/usr/local/lib/python2.7/dist-packages/wfdb/io/record.pyc\u001b[0m in \u001b[0;36m_check_item_type\u001b[0;34m(item, field_name, allowed_types, expect_list, required_channels)\u001b[0m\n\u001b[1;32m    907\u001b[0m         \u001b[0;32mif\u001b[0m \u001b[0;32mnot\u001b[0m \u001b[0misinstance\u001b[0m\u001b[0;34m(\u001b[0m\u001b[0mitem\u001b[0m\u001b[0;34m,\u001b[0m \u001b[0mallowed_types\u001b[0m\u001b[0;34m)\u001b[0m\u001b[0;34m:\u001b[0m\u001b[0;34m\u001b[0m\u001b[0m\n\u001b[1;32m    908\u001b[0m             raise TypeError('Field `%s` must be one of the following types:',\n\u001b[0;32m--> 909\u001b[0;31m                             allowed_types)\n\u001b[0m\u001b[1;32m    910\u001b[0m \u001b[0;34m\u001b[0m\u001b[0m\n\u001b[1;32m    911\u001b[0m \u001b[0;34m\u001b[0m\u001b[0m\n",
            "\u001b[0;31mTypeError\u001b[0m: ('Field `%s` must be one of the following types:', (<type 'numpy.ndarray'>,))"
          ]
        }
      ]
    },
    {
      "metadata": {
        "id": "S6ZZAt57lD2l",
        "colab_type": "code",
        "colab": {}
      },
      "cell_type": "code",
      "source": [
        ""
      ],
      "execution_count": 0,
      "outputs": []
    }
  ]
}